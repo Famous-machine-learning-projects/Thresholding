{
 "cells": [
  {
   "cell_type": "markdown",
   "id": "cae52c5c",
   "metadata": {},
   "source": [
    "# Simple Thresholding\n",
    "Here, the matter is straight-forward. For every pixel, the same threshold value is applied. If the pixel value is smaller than the threshold, it is set to 0, otherwise it is set to a maximum value. The function cv.threshold is used to apply the thresholding. The first argument is the source image, which should be a grayscale image. The second argument is the threshold value which is used to classify the pixel values. The third argument is the maximum value which is assigned to pixel values exceeding the threshold. OpenCV provides different types of thresholding which is given by the fourth parameter of the function. Basic thresholding as described above is done by using the type cv.THRESH_BINARY. All simple thresholding types are:\n",
    "\n",
    "- cv.THRESH_BINARY\n",
    "- cv.THRESH_BINARY_INV\n",
    "- cv.THRESH_TRUNC\n",
    "- cv.THRESH_TOZERO\n",
    "- cv.THRESH_TOZERO_INV\n",
    "\n",
    "See the documentation of the types for the differences.\n",
    "The method returns two outputs. The first is the threshold that was used and the second output is the thresholded image."
   ]
  },
  {
   "cell_type": "markdown",
   "id": "f996ac3b",
   "metadata": {},
   "source": [
    "## Call Libs"
   ]
  },
  {
   "cell_type": "code",
   "execution_count": 3,
   "id": "2930f8ba",
   "metadata": {},
   "outputs": [],
   "source": [
    "import cv2 as cv\n",
    "import numpy as np\n",
    "from matplotlib import pyplot as plt"
   ]
  },
  {
   "cell_type": "markdown",
   "id": "a471c8ef",
   "metadata": {},
   "source": [
    "## Reading image "
   ]
  },
  {
   "cell_type": "code",
   "execution_count": 4,
   "id": "9688b354",
   "metadata": {},
   "outputs": [],
   "source": [
    "img = cv.imread('gradient.png',0)"
   ]
  },
  {
   "cell_type": "markdown",
   "id": "aaea02f2",
   "metadata": {},
   "source": [
    "## Train Images"
   ]
  },
  {
   "cell_type": "code",
   "execution_count": 5,
   "id": "b349e469",
   "metadata": {},
   "outputs": [],
   "source": [
    "ret,thresh1 = cv.threshold(img,127,255,cv.THRESH_BINARY)\n",
    "ret,thresh2 = cv.threshold(img,127,255,cv.THRESH_BINARY_INV)\n",
    "ret,thresh3 = cv.threshold(img,127,255,cv.THRESH_TRUNC)\n",
    "ret,thresh4 = cv.threshold(img,127,255,cv.THRESH_TOZERO)\n",
    "ret,thresh5 = cv.threshold(img,127,255,cv.THRESH_TOZERO_INV)"
   ]
  },
  {
   "cell_type": "markdown",
   "id": "001b987e",
   "metadata": {},
   "source": [
    "## Show"
   ]
  },
  {
   "cell_type": "code",
   "execution_count": 6,
   "id": "dbd865c2",
   "metadata": {},
   "outputs": [
    {
     "data": {
      "image/png": "[encoded data removed]",
      "text/plain": [
       "<Figure size 640x480 with 6 Axes>"
      ]
     },
     "metadata": {},
     "output_type": "display_data"
    }
   ],
   "source": [
    "titles = ['Original Image','BINARY','BINARY_INV','TRUNC','TOZERO','TOZERO_INV']\n",
    "images = [img, thresh1, thresh2, thresh3, thresh4, thresh5]\n",
    "for i in range(6):\n",
    "    plt.subplot(2,3,i+1),plt.imshow(images[i],'gray',vmin=0,vmax=255)\n",
    "    plt.title(titles[i])\n",
    "    plt.xticks([]),plt.yticks([])\n",
    "plt.show()"
   ]
  },
  {
   "cell_type": "markdown",
   "id": "d95936bf",
   "metadata": {},
   "source": [
    "Reference: https://docs.opencv.org/4.x/d7/d4d/tutorial_py_thresholding.html"
   ]
  },
  {
   "cell_type": "code",
   "execution_count": null,
   "id": "fbcecea7",
   "metadata": {},
   "outputs": [],
   "source": []
  }
 ],
 "metadata": {
  "kernelspec": {
   "display_name": "Python 3 (ipykernel)",
   "language": "python",
   "name": "python3"
  },
  "language_info": {
   "codemirror_mode": {
    "name": "ipython",
    "version": 3
   },
   "file_extension": ".py",
   "mimetype": "text/x-python",
   "name": "python",
   "nbconvert_exporter": "python",
   "pygments_lexer": "ipython3",
   "version": "3.10.4"
  }
 },
 "nbformat": 4,
 "nbformat_minor": 5
}
